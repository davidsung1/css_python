{
 "cells": [
  {
   "cell_type": "code",
   "execution_count": 7,
   "metadata": {
    "collapsed": true
   },
   "outputs": [],
   "source": [
    "#상속(inheritance)를 하면 child class가 parent class의 모든 member와 method를 이어 받는다.\n",
    "class Base:\n",
    "    def __init__(self, a, b):\n",
    "        self.a = a\n",
    "        self.b = b\n",
    "        \n",
    "    def func1(self):\n",
    "        print(\"func1 called\")\n",
    "        \n",
    "class Derived(Base): #괄호안에 부모 클래스 이름을 넣으면 자식 클래스로 생성\n",
    "    pass\n",
    "\n"
   ]
  },
  {
   "cell_type": "code",
   "execution_count": 8,
   "metadata": {
    "collapsed": false
   },
   "outputs": [
    {
     "name": "stdout",
     "output_type": "stream",
     "text": [
      "5 3\n"
     ]
    }
   ],
   "source": [
    "d = Derived(5, 3)\n",
    "print(d.a, d.b)"
   ]
  },
  {
   "cell_type": "code",
   "execution_count": 9,
   "metadata": {
    "collapsed": false
   },
   "outputs": [
    {
     "name": "stdout",
     "output_type": "stream",
     "text": [
      "func1 called\n"
     ]
    }
   ],
   "source": [
    "d.func1()"
   ]
  },
  {
   "cell_type": "code",
   "execution_count": 40,
   "metadata": {
    "collapsed": false
   },
   "outputs": [],
   "source": [
    "# Parent class - child class가 가지고 있는 공통된 attribute들을 모두 여기서 정의한다.\n",
    "class Computer:\n",
    "    def __init__(self, cpu, ram, hard_disk):\n",
    "        self.cpu = cpu\n",
    "        self.ram = ram\n",
    "        self.hard_disk = hard_disk\n",
    "        \n",
    "    def calculate(self):\n",
    "        print(\"computer calculating\")\n",
    "        \n",
    "    def __str__(self):\n",
    "        return \"I am a computer.\"\n",
    "    \n",
    "    \n",
    "class Laptop(Computer):\n",
    "    def __init__(self, cpu, ram, hard_disk, touch = \"normal\", cam = \"small\"):\n",
    "        #cpu, ram, hard 는 부모클래스에서 이미 생성함\n",
    "        #방법1. 클래스 이름으로 접근\n",
    "        Computer.__init__(self, cpu, ram, hard_disk)\n",
    "        self.touch = touch\n",
    "        self.cam = cam\n",
    "        \n",
    "    #정의되어 있지 않아도 부모가 가지고 있으면 있는거임 ex)calculate 이미 Laptop에 있음\n",
    "    # Overriding 상속받은 속성을 좀 바꾸고 싶다!\n",
    "    # Laptop이니까 연산이 조금 느리다\n",
    "    def calculate(self):\n",
    "        print(\"laptop calculating : a little bit slow\")\n",
    "        \n",
    "    def __str__(self): #super()는 생성자 말고 다른 함수에도 사용가능!\n",
    "        return super(Laptop, self).__str__() + \"but portable\"\n",
    "        \n",
    "class Desktop(Computer):\n",
    "    def __init__(self, cpu, ram, hard_disk, external_graphic = \"Geforce\"):\n",
    "        #방법2. super()로 접근\n",
    "        super(Desktop, self).__init__(cpu, ram, hard_disk)\n",
    "        \n",
    "    def calculate(self):\n",
    "        print(\"Desktop calculating : a little bit fast\")\n",
    "        \n",
    "   "
   ]
  },
  {
   "cell_type": "code",
   "execution_count": 41,
   "metadata": {
    "collapsed": true
   },
   "outputs": [],
   "source": [
    "l1 = Laptop(\"i5\", \"12GB\", \"1TB\")"
   ]
  },
  {
   "cell_type": "code",
   "execution_count": 42,
   "metadata": {
    "collapsed": false
   },
   "outputs": [
    {
     "name": "stdout",
     "output_type": "stream",
     "text": [
      "laptop calculating : a little bit slow\n"
     ]
    }
   ],
   "source": [
    "l1.calculate()"
   ]
  },
  {
   "cell_type": "code",
   "execution_count": 43,
   "metadata": {
    "collapsed": false
   },
   "outputs": [
    {
     "name": "stdout",
     "output_type": "stream",
     "text": [
      "I am a computer.but portable\n"
     ]
    }
   ],
   "source": [
    "print(l1)"
   ]
  },
  {
   "cell_type": "code",
   "execution_count": null,
   "metadata": {
    "collapsed": true
   },
   "outputs": [],
   "source": []
  }
 ],
 "metadata": {
  "kernelspec": {
   "display_name": "Python 3",
   "language": "python",
   "name": "python3"
  },
  "language_info": {
   "codemirror_mode": {
    "name": "ipython",
    "version": 3
   },
   "file_extension": ".py",
   "mimetype": "text/x-python",
   "name": "python",
   "nbconvert_exporter": "python",
   "pygments_lexer": "ipython3",
   "version": "3.6.0"
  }
 },
 "nbformat": 4,
 "nbformat_minor": 2
}
