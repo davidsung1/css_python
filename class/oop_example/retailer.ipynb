{
 "cells": [
  {
   "cell_type": "code",
   "execution_count": 4,
   "metadata": {
    "collapsed": false
   },
   "outputs": [],
   "source": [
    "from person import Person\n",
    "\n",
    "class Retailer(Person):\n",
    "    # class member - price of product\n",
    "    price = 1000\n",
    "    \n",
    "    def __init__(self, name, age, money, product):\n",
    "        super().__init__(name, age, money)\n",
    "        self.product = product\n",
    "        \n",
    "    def sell(self, other, how_many):\n",
    "        if self.product > how_many:\n",
    "            self.product -= how_many\n",
    "            #other.product += how_many\n",
    "            \n",
    "            total = self.price * how_many\n",
    "            other.give_money(self, total)\n",
    "            \n",
    "        else:\n",
    "            print(\"Product is not available\")\n",
    "            \n",
    "    def __str__(self): \n",
    "        return super().__str__() + '''\n",
    "I am a retailer.\n",
    "I have {} products'''.format(self.product)\n",
    "    \n",
    "        \n"
   ]
  },
  {
   "cell_type": "code",
   "execution_count": 5,
   "metadata": {
    "collapsed": true
   },
   "outputs": [],
   "source": [
    "r1 = Retailer(\"Yang\", 18, 5000, 20)\n",
    "p1 = Person(\"Kim\", 14, 6000)"
   ]
  },
  {
   "cell_type": "code",
   "execution_count": 9,
   "metadata": {
    "collapsed": false
   },
   "outputs": [
    {
     "name": "stdout",
     "output_type": "stream",
     "text": [
      "\n",
      "my name is Yang\n",
      "I am 18 years old\n",
      "I have 8000 won\n",
      "I am a retailer.\n",
      "I have 17 products\n"
     ]
    }
   ],
   "source": [
    "print(r1)"
   ]
  },
  {
   "cell_type": "code",
   "execution_count": 10,
   "metadata": {
    "collapsed": true
   },
   "outputs": [],
   "source": [
    "r1.sell(p1, 3)"
   ]
  },
  {
   "cell_type": "code",
   "execution_count": 11,
   "metadata": {
    "collapsed": false
   },
   "outputs": [
    {
     "name": "stdout",
     "output_type": "stream",
     "text": [
      "\n",
      "my name is Yang\n",
      "I am 18 years old\n",
      "I have 11000 won\n",
      "I am a retailer.\n",
      "I have 14 products\n",
      "\n",
      "my name is Kim\n",
      "I am 14 years old\n",
      "I have 0 won\n"
     ]
    }
   ],
   "source": [
    "print(r1)\n",
    "print(p1)"
   ]
  },
  {
   "cell_type": "code",
   "execution_count": null,
   "metadata": {
    "collapsed": true
   },
   "outputs": [],
   "source": []
  }
 ],
 "metadata": {
  "kernelspec": {
   "display_name": "Python 3",
   "language": "python",
   "name": "python3"
  },
  "language_info": {
   "codemirror_mode": {
    "name": "ipython",
    "version": 3
   },
   "file_extension": ".py",
   "mimetype": "text/x-python",
   "name": "python",
   "nbconvert_exporter": "python",
   "pygments_lexer": "ipython3",
   "version": "3.6.0"
  }
 },
 "nbformat": 4,
 "nbformat_minor": 2
}
