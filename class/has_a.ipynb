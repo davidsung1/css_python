{
 "cells": [
  {
   "cell_type": "code",
   "execution_count": 10,
   "metadata": {
    "collapsed": true
   },
   "outputs": [],
   "source": [
    "class Gun:\n",
    "    def __init__(self, kind):\n",
    "        self.kind = kind\n",
    "        \n",
    "    def bang(self):\n",
    "        print(\"bang bang!\")\n",
    "        \n",
    "        \n",
    "#객체합성\n",
    "class Police:\n",
    "    def __init__(self, gun_kind = ''):\n",
    "        if gun_kind:\n",
    "            self.gun = Gun(gun_kind)\n",
    "        else:\n",
    "            self.gun = None\n",
    "            \n",
    "    def get_gun(self, gun_kind):\n",
    "        self.gun = Gun(gun_kind)\n",
    "        \n",
    "    def shoot(self):\n",
    "        if self.gun:\n",
    "            self.gun.bang() \n",
    "        else:\n",
    "            print(\"No gun! You can't shoot!\")       \n",
    "\n",
    "        "
   ]
  },
  {
   "cell_type": "code",
   "execution_count": 11,
   "metadata": {
    "collapsed": true
   },
   "outputs": [],
   "source": [
    "p1 = Police(\"Revolver\")"
   ]
  },
  {
   "cell_type": "code",
   "execution_count": 12,
   "metadata": {
    "collapsed": false
   },
   "outputs": [
    {
     "name": "stdout",
     "output_type": "stream",
     "text": [
      "bang bang!\n"
     ]
    }
   ],
   "source": [
    "p1.shoot()"
   ]
  },
  {
   "cell_type": "code",
   "execution_count": 13,
   "metadata": {
    "collapsed": true
   },
   "outputs": [],
   "source": [
    "p2 = Police()"
   ]
  },
  {
   "cell_type": "code",
   "execution_count": 14,
   "metadata": {
    "collapsed": false
   },
   "outputs": [
    {
     "name": "stdout",
     "output_type": "stream",
     "text": [
      "No gun! You can't shoot!\n"
     ]
    }
   ],
   "source": [
    "p2.shoot()"
   ]
  },
  {
   "cell_type": "code",
   "execution_count": 15,
   "metadata": {
    "collapsed": true
   },
   "outputs": [],
   "source": [
    "p2.get_gun(\"Machine Gun\")"
   ]
  },
  {
   "cell_type": "code",
   "execution_count": 16,
   "metadata": {
    "collapsed": false
   },
   "outputs": [
    {
     "name": "stdout",
     "output_type": "stream",
     "text": [
      "bang bang!\n"
     ]
    }
   ],
   "source": [
    "p2.shoot()"
   ]
  },
  {
   "cell_type": "code",
   "execution_count": null,
   "metadata": {
    "collapsed": true
   },
   "outputs": [],
   "source": []
  }
 ],
 "metadata": {
  "kernelspec": {
   "display_name": "Python 3",
   "language": "python",
   "name": "python3"
  },
  "language_info": {
   "codemirror_mode": {
    "name": "ipython",
    "version": 3
   },
   "file_extension": ".py",
   "mimetype": "text/x-python",
   "name": "python",
   "nbconvert_exporter": "python",
   "pygments_lexer": "ipython3",
   "version": "3.6.0"
  }
 },
 "nbformat": 4,
 "nbformat_minor": 2
}
