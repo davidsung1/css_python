{
 "cells": [
  {
   "cell_type": "code",
   "execution_count": 4,
   "metadata": {
    "collapsed": false
   },
   "outputs": [
    {
     "name": "stdout",
     "output_type": "stream",
     "text": [
      "95.0\n",
      "16.666666666666668\n"
     ]
    }
   ],
   "source": [
    "from functools import reduce\n",
    "\n",
    "class Evaluate:\n",
    "    def average(self, scores):\n",
    "        return reduce(lambda a, b: a + b, scores)/len(scores)\n",
    "\n",
    "    def variance(self, scores, avrg):\n",
    "        return reduce(lambda a, b: a + b, \\\n",
    "                      map(lambda s:(s-avrg)**2, scores))/len(scores)\n",
    "    \n",
    "e = Evaluate()\n",
    "li = [100, 95, 90]\n",
    "result1 = e.average(li)\n",
    "print(result1)\n",
    "result2 = e.variance(li, result1)\n",
    "print(result2)"
   ]
  },
  {
   "cell_type": "code",
   "execution_count": null,
   "metadata": {
    "collapsed": true
   },
   "outputs": [],
   "source": []
  }
 ],
 "metadata": {
  "kernelspec": {
   "display_name": "Python 3",
   "language": "python",
   "name": "python3"
  },
  "language_info": {
   "codemirror_mode": {
    "name": "ipython",
    "version": 3
   },
   "file_extension": ".py",
   "mimetype": "text/x-python",
   "name": "python",
   "nbconvert_exporter": "python",
   "pygments_lexer": "ipython3",
   "version": "3.6.0"
  }
 },
 "nbformat": 4,
 "nbformat_minor": 2
}
