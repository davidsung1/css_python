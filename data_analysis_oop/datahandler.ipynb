{
 "cells": [
  {
   "cell_type": "code",
   "execution_count": 29,
   "metadata": {
    "collapsed": false
   },
   "outputs": [],
   "source": [
    "from evaluate import Evaluate\n",
    "import pickle\n",
    "import math\n",
    "\n",
    "\n",
    "class DataHandler:\n",
    "    #클래스 멤버로 연산기 (객체합성)\n",
    "    evaluator = Evaluate()\n",
    "    \n",
    "    @classmethod\n",
    "    def GetRawdataInDic(cls, filename):\n",
    "        rawdata = {}\n",
    "        with open(filename, 'rb') as f:\n",
    "            while 1:\n",
    "                try: \n",
    "                    data = pickle.load(f)\n",
    "                except EOFError:\n",
    "                    break    \n",
    "                    \n",
    "                rawdata.update(data)\n",
    "         \n",
    "        print(rawdata)\n",
    "        return rawdata\n",
    "    \n",
    "    \n",
    "    def __init__(self, filename, clsname):\n",
    "        self.rawdata = DataHandler.GetRawdataInDic(filename)\n",
    "        self.clsname = clsname\n",
    "        #연산한 값을 저장해두는 저장소\n",
    "        #필요할 때 연산하되 이미 연산된 값이면 연산 없이 저장된 값 반환\n",
    "        self.cache = {}\n",
    "        \n",
    "    # cache 사용법      \n",
    "    def get_scores(self):\n",
    "        if 'scores' not in self.cache:\n",
    "            self.cache['scores'] = list(self.rawdata.values())\n",
    "            \n",
    "        return self.cache.get('scores')\n",
    "        \n",
    "    def get_average(self):\n",
    "        if 'average' not in self.cache:\n",
    "            self.cache['average'] = self.evaluator.average(self.get_scores())\n",
    "        \n",
    "        return self.cache.get('average')\n",
    "    \n",
    "    def get_variance(self):\n",
    "        if 'variance' not in self.cache:\n",
    "            vari = round(self.evaluator.variance(self.get_scores(), self.get_average()), 1)\n",
    "            self.cache[\"variance\"] = vari\n",
    "            \n",
    "        return self.cache.get('variance')\n",
    "    \n",
    "    def get_standard_deviation(self):\n",
    "        if \"standard_deviation\" not in self.cache:\n",
    "            std_dev = round(math.sqrt(self.get_variance()), 1)\n",
    "            self.cache[\"standard_deviation\"] = std_dev\n",
    "\n",
    "        return self.cache.get(\"standard_deviation\")\n",
    "    \n",
    "    def WhoIsHighest(self):\n",
    "        if \"highest\" not in self.cache:\n",
    "            self.cache['highest'] = reduce(lambda a, b: a if self.rawdata.get(a) > self.rawdata.get(b)\\\n",
    "                                else b,                  \n",
    "                               self.rawdata.keys())\n",
    "        return self.cache.get(\"highest\")\n",
    "    \n",
    "    def GetHightestScore(self):\n",
    "        return self.rawdata[self.WhoIsHighest()]\n",
    "    \n",
    "    def WhoIsLowest(self):\n",
    "        if 'lowest' not in self.cache:\n",
    "            self.cache['lowest'] = reduce(lambda a, b: a if self.rawdata.get(a) < self.rawdata.get(b)\\\n",
    "                                                        else b,\n",
    "                                                         self.rawdata.keys())\n",
    "        return self.cache.get(\"lowest\")\n",
    "    \n",
    "    def GetLowestScore(self):\n",
    "        return self.rawdata[self.WhoIsLowest()]\n",
    "    \n",
    "    def GetEvaluation(self):\n",
    "        print('*' * 50)\n",
    "        print(\"%s 반 성적 분석 결과\" % self.clsname)\n",
    "        print(\"{0}반의 평균은 {1}점이고 분산은 {2}이며,따라서 표준편차는{3}이다\".\\\n",
    "              format(self.clsname, self.get_average(), self.get_variance()\\\n",
    "                     , self.get_standard_deviation()))\n",
    "        print('*' * 50)\n",
    "        print(\"%s 반 종합 평가\" % self.clsname)\n",
    "        print('*' * 50)\n",
    "        self.evaluateClass()\n",
    "\n",
    "    def evaluateClass(self):\n",
    "        avrg = self.get_average()\n",
    "        std_dev = self.get_standard_deviation()\n",
    "        \n",
    "        if avrg <50 and std_dev >20:\n",
    "            print(\"성적이 너무 저조하고 학생들의 실력 차이가 너무 크다.\")\n",
    "        elif avrg > 50 and std_dev >20:\n",
    "            print(\"성적은 평균이상이지만 학생들 실력 차이가 크다. 주의 요망!\")\n",
    "        elif avrg < 50 and std_dev <20:\n",
    "            print(\"학생들간 실력차는 나지 않으나 성적이 너무 저조하다. 주의 요망!\")\n",
    "        elif avrg > 50 and std_dev <20:\n",
    "            print(\"성적도 평균 이상이고 학생들의 실력차도 크지 않다.\")\n",
    "        "
   ]
  },
  {
   "cell_type": "code",
   "execution_count": 33,
   "metadata": {
    "collapsed": false
   },
   "outputs": [
    {
     "name": "stdout",
     "output_type": "stream",
     "text": [
      "{'greg': 95, 'john': 25, 'yang': 50, 'timothy': 15, 'melisa': 100, 'thor': 10, 'elen': 25, 'mark': 80, 'steve': 95, 'anna': 20}\n"
     ]
    }
   ],
   "source": [
    "d1 = DataHandler(\"class_A.bin\", 2-3)"
   ]
  },
  {
   "cell_type": "code",
   "execution_count": null,
   "metadata": {
    "collapsed": true
   },
   "outputs": [],
   "source": []
  }
 ],
 "metadata": {
  "kernelspec": {
   "display_name": "Python 3",
   "language": "python",
   "name": "python3"
  },
  "language_info": {
   "codemirror_mode": {
    "name": "ipython",
    "version": 3
   },
   "file_extension": ".py",
   "mimetype": "text/x-python",
   "name": "python",
   "nbconvert_exporter": "python",
   "pygments_lexer": "ipython3",
   "version": "3.6.0"
  }
 },
 "nbformat": 4,
 "nbformat_minor": 2
}
