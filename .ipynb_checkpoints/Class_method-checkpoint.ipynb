{
 "cells": [
  {
   "cell_type": "code",
   "execution_count": 24,
   "metadata": {
    "collapsed": false
   },
   "outputs": [],
   "source": [
    "#class member가 있다면 class method도 있다!\n",
    "class Point:\n",
    "    #class member\n",
    "    a = 10    \n",
    "    def __init__(self, _x, _y):\n",
    "        # instance members\n",
    "        self.x = _x\n",
    "        self.y = _y\n",
    "    #class method    \n",
    "    @classmethod #decorator라고 한다\n",
    "    def class_method(cls):\n",
    "        print(\"class_method called\")\n",
    "     \n",
    "    #instance method\n",
    "    def instance_func(self):\n",
    "        print(\"instance_func called\")\n",
    "        \n",
    "    def __str__(self): #print함수를 호출할 때 밑에 내용을 반환하라 라는 함수\n",
    "        return \"( {}, {} )\".format(self.x, self.y)\n",
    "    "
   ]
  },
  {
   "cell_type": "code",
   "execution_count": 26,
   "metadata": {
    "collapsed": false
   },
   "outputs": [
    {
     "name": "stdout",
     "output_type": "stream",
     "text": [
      "class_method called\n"
     ]
    }
   ],
   "source": [
    "Point.class_method()"
   ]
  },
  {
   "cell_type": "code",
   "execution_count": null,
   "metadata": {
    "collapsed": true
   },
   "outputs": [],
   "source": []
  }
 ],
 "metadata": {
  "kernelspec": {
   "display_name": "Python 3",
   "language": "python",
   "name": "python3"
  },
  "language_info": {
   "codemirror_mode": {
    "name": "ipython",
    "version": 3
   },
   "file_extension": ".py",
   "mimetype": "text/x-python",
   "name": "python",
   "nbconvert_exporter": "python",
   "pygments_lexer": "ipython3",
   "version": "3.6.0"
  }
 },
 "nbformat": 4,
 "nbformat_minor": 2
}
