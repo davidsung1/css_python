{
 "cells": [
  {
   "cell_type": "code",
   "execution_count": 37,
   "metadata": {
    "collapsed": true
   },
   "outputs": [],
   "source": [
    "#member + method = attribute(속성)\n",
    "class Person:\n",
    "    # member(member variable in C, C++)\n",
    "    def __init__(self, name, age, money):\n",
    "        self.name = name\n",
    "        self.age = age\n",
    "        self.money = money\n",
    "        self.hp = 100\n",
    "    #method  \n",
    "    def change_name(self, new_name):\n",
    "        self.name = new_name\n",
    "          \n",
    "    def givemoney(self, other, money):\n",
    "        self.money -= money\n",
    "        other. money += money\n",
    "    \n",
    "    def under_stress(self, hp):\n",
    "        self.hp -= hp\n",
    "        \n",
    "    def showInfo(self):\n",
    "        print(\"name : {}\\nage : {}\\nmoney : {}\".format(self.name, self.age, self.money))\n",
    "        \n",
    "class CD:\n",
    "    def __init__(self, local, capacity):\n",
    "        self.local = local\n",
    "        self.capacity = capacity\n",
    "        \n",
    "    def givemoney(self, person, money):\n",
    "        self.capacity -= money\n",
    "        person.money += money\n",
    "        \n",
    "    def showInfo(self):\n",
    "        print(\"cd name : {}\\ncapacity : {}\\n\".format(self.local, self.capacity))"
   ]
  },
  {
   "cell_type": "code",
   "execution_count": 38,
   "metadata": {
    "collapsed": false
   },
   "outputs": [
    {
     "name": "stdout",
     "output_type": "stream",
     "text": [
      "cd name : 서울입\n",
      "capacity : 1000000\n",
      "\n",
      "name : greg\n",
      "age : 18\n",
      "money : 1005000\n"
     ]
    }
   ],
   "source": [
    "person_1 = Person(\"greg\", 18, 5000) #instance\n",
    "person_2 = Person(\"matt\", 25, 1000)\n",
    "cd_1 = CD(\"서울입\", 2000000)\n",
    "\n",
    "cd_1.givemoney(person_1, 1000000)\n",
    "cd_1.showInfo()\n",
    "person_1.showInfo()"
   ]
  },
  {
   "cell_type": "code",
   "execution_count": 39,
   "metadata": {
    "collapsed": true
   },
   "outputs": [],
   "source": [
    "#interaction between instances = message passing\n",
    "person_1.givemoney(person_2, 2000)"
   ]
  },
  {
   "cell_type": "code",
   "execution_count": 40,
   "metadata": {
    "collapsed": false
   },
   "outputs": [
    {
     "name": "stdout",
     "output_type": "stream",
     "text": [
      "name : greg\n",
      "age : 18\n",
      "money : 1003000\n",
      "name : matt\n",
      "age : 25\n",
      "money : 3000\n"
     ]
    }
   ],
   "source": [
    "person_1.showInfo()\n",
    "person_2.showInfo()"
   ]
  },
  {
   "cell_type": "code",
   "execution_count": null,
   "metadata": {
    "collapsed": true
   },
   "outputs": [],
   "source": []
  }
 ],
 "metadata": {
  "kernelspec": {
   "display_name": "Python 3",
   "language": "python",
   "name": "python3"
  },
  "language_info": {
   "codemirror_mode": {
    "name": "ipython",
    "version": 3
   },
   "file_extension": ".py",
   "mimetype": "text/x-python",
   "name": "python",
   "nbconvert_exporter": "python",
   "pygments_lexer": "ipython3",
   "version": "3.6.0"
  }
 },
 "nbformat": 4,
 "nbformat_minor": 2
}
