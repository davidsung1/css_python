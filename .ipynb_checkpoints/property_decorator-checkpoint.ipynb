{
 "cells": [
  {
   "cell_type": "code",
   "execution_count": 10,
   "metadata": {
    "collapsed": false
   },
   "outputs": [],
   "source": [
    "# property는 객체를 통해 호출을 할 때 마치 instance member인 것 처럼 호출을 한다.\n",
    "# instance method가 호출이 된다.\n",
    "\n",
    "class Person:\n",
    "    \n",
    "    def __init__(self, money):\n",
    "        self.money = money\n",
    "    \n",
    "    # getter\n",
    "    @property\n",
    "    def money(self):\n",
    "        print(\"getter called\")\n",
    "        return self.__money\n",
    "    \n",
    "    @money.setter\n",
    "    def money(self, money):\n",
    "        print(\"setter called\")\n",
    "        if money < 0:\n",
    "            self.__money = 0\n",
    "        else:\n",
    "            self.__money = money\n",
    "        \n",
    "    def __str__(self):\n",
    "        return \"I have {} won\".format(self.__money)\n",
    "    \n",
    "    "
   ]
  },
  {
   "cell_type": "code",
   "execution_count": 19,
   "metadata": {
    "collapsed": false
   },
   "outputs": [
    {
     "name": "stdout",
     "output_type": "stream",
     "text": [
      "setter called\n",
      "getter called\n",
      "3000\n"
     ]
    }
   ],
   "source": [
    "p1 = Person(3000)\n",
    "print(p1.money)"
   ]
  },
  {
   "cell_type": "code",
   "execution_count": 21,
   "metadata": {
    "collapsed": false
   },
   "outputs": [
    {
     "name": "stdout",
     "output_type": "stream",
     "text": [
      "getter called\n"
     ]
    },
    {
     "data": {
      "text/plain": [
       "3000"
      ]
     },
     "execution_count": 21,
     "metadata": {},
     "output_type": "execute_result"
    }
   ],
   "source": [
    "a = p1.money\n",
    "a"
   ]
  },
  {
   "cell_type": "code",
   "execution_count": null,
   "metadata": {
    "collapsed": true
   },
   "outputs": [],
   "source": []
  }
 ],
 "metadata": {
  "kernelspec": {
   "display_name": "Python 3",
   "language": "python",
   "name": "python3"
  },
  "language_info": {
   "codemirror_mode": {
    "name": "ipython",
    "version": 3
   },
   "file_extension": ".py",
   "mimetype": "text/x-python",
   "name": "python",
   "nbconvert_exporter": "python",
   "pygments_lexer": "ipython3",
   "version": "3.6.0"
  }
 },
 "nbformat": 4,
 "nbformat_minor": 2
}
