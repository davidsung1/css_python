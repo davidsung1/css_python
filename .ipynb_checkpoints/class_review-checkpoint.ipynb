{
 "cells": [
  {
   "cell_type": "code",
   "execution_count": 4,
   "metadata": {
    "collapsed": true
   },
   "outputs": [],
   "source": [
    "#절차 지향적 프로그래밍\n",
    "#연관성있는 데이터를 모아놓음\n",
    "\n",
    "my_dict = dict(name = \"Greg\", age = 18, money = 5000)\n",
    "\n",
    "your_dict = {\"name\" : \"Matt\", \"age\" : 25, \"money\" : 1000}\n"
   ]
  },
  {
   "cell_type": "code",
   "execution_count": 5,
   "metadata": {
    "collapsed": true
   },
   "outputs": [],
   "source": [
    "#내가 하는 행동을 나타내는 함수\n",
    "def give_money(giving_dict, receiving_dict, money):\n",
    "    giving_dict[\"money\"] = giving_dict[\"money\"] - money\n",
    "    receiving_dict.update({\"money\": receiving_dict.get(\"money\") + money})\n",
    "    "
   ]
  },
  {
   "cell_type": "code",
   "execution_count": 6,
   "metadata": {
    "collapsed": true
   },
   "outputs": [],
   "source": [
    "give_money(my_dict, your_dict, 2000)"
   ]
  },
  {
   "cell_type": "code",
   "execution_count": 7,
   "metadata": {
    "collapsed": false
   },
   "outputs": [
    {
     "name": "stdout",
     "output_type": "stream",
     "text": [
      "{'name': 'Greg', 'age': 18, 'money': 3000}\n",
      "{'name': 'Matt', 'age': 25, 'money': 3000}\n"
     ]
    }
   ],
   "source": [
    "print(my_dict)\n",
    "print(your_dict)"
   ]
  },
  {
   "cell_type": "code",
   "execution_count": 8,
   "metadata": {
    "collapsed": true
   },
   "outputs": [],
   "source": [
    "#dictionary에다가 함수도 넣어버리자\n",
    "my_dict[\"func_1\"] = give_money"
   ]
  },
  {
   "cell_type": "code",
   "execution_count": 9,
   "metadata": {
    "collapsed": false
   },
   "outputs": [
    {
     "data": {
      "text/plain": [
       "{'age': 18,\n",
       " 'func_1': <function __main__.give_money>,\n",
       " 'money': 3000,\n",
       " 'name': 'Greg'}"
      ]
     },
     "execution_count": 9,
     "metadata": {},
     "output_type": "execute_result"
    }
   ],
   "source": [
    "my_dict"
   ]
  },
  {
   "cell_type": "code",
   "execution_count": 10,
   "metadata": {
    "collapsed": true
   },
   "outputs": [],
   "source": [
    "my_dict[\"func_1\"](my_dict, your_dict, 2000)"
   ]
  },
  {
   "cell_type": "code",
   "execution_count": 11,
   "metadata": {
    "collapsed": false
   },
   "outputs": [
    {
     "data": {
      "text/plain": [
       "{'age': 18,\n",
       " 'func_1': <function __main__.give_money>,\n",
       " 'money': 1000,\n",
       " 'name': 'Greg'}"
      ]
     },
     "execution_count": 11,
     "metadata": {},
     "output_type": "execute_result"
    }
   ],
   "source": [
    "my_dict"
   ]
  },
  {
   "cell_type": "code",
   "execution_count": 12,
   "metadata": {
    "collapsed": false
   },
   "outputs": [
    {
     "data": {
      "text/plain": [
       "{'age': 25, 'money': 5000, 'name': 'Matt'}"
      ]
     },
     "execution_count": 12,
     "metadata": {},
     "output_type": "execute_result"
    }
   ],
   "source": [
    "your_dict"
   ]
  },
  {
   "cell_type": "code",
   "execution_count": 13,
   "metadata": {
    "collapsed": true
   },
   "outputs": [],
   "source": [
    "#나도 돈을 받을래\n",
    "your_dict[\"func_1\"] = give_money"
   ]
  },
  {
   "cell_type": "code",
   "execution_count": 14,
   "metadata": {
    "collapsed": false
   },
   "outputs": [
    {
     "name": "stdout",
     "output_type": "stream",
     "text": [
      "{'name': 'Greg', 'age': 18, 'money': 1000, 'func_1': <function give_money at 0x000001E7B3F3B158>}\n",
      "{'name': 'Matt', 'age': 25, 'money': 5000, 'func_1': <function give_money at 0x000001E7B3F3B158>}\n"
     ]
    }
   ],
   "source": [
    "print(my_dict)\n",
    "print(your_dict)"
   ]
  },
  {
   "cell_type": "code",
   "execution_count": 15,
   "metadata": {
    "collapsed": false
   },
   "outputs": [],
   "source": [
    "#연관성있는 변수와 함수를 모아야겠다!\n",
    "def initialize_person_dict(name, age, money, func):\n",
    "    dic = {}\n",
    "    dic[\"name\"] = name\n",
    "    dic[\"age\"] = age\n",
    "    dic[\"money\"] = money\n",
    "    dic[\"func\"] = func\n",
    "    return dic"
   ]
  },
  {
   "cell_type": "code",
   "execution_count": 16,
   "metadata": {
    "collapsed": true
   },
   "outputs": [],
   "source": [
    "his_dic = initialize_person_dict(\"Sam\", 11, 200, give_money)"
   ]
  },
  {
   "cell_type": "code",
   "execution_count": 17,
   "metadata": {
    "collapsed": false
   },
   "outputs": [
    {
     "data": {
      "text/plain": [
       "{'age': 11,\n",
       " 'func': <function __main__.give_money>,\n",
       " 'money': 200,\n",
       " 'name': 'Sam'}"
      ]
     },
     "execution_count": 17,
     "metadata": {},
     "output_type": "execute_result"
    }
   ],
   "source": [
    "his_dic"
   ]
  },
  {
   "cell_type": "code",
   "execution_count": 18,
   "metadata": {
    "collapsed": true
   },
   "outputs": [],
   "source": [
    "her_dic = initialize_person_dict(\"Sara\", 35, 500000, give_money)"
   ]
  },
  {
   "cell_type": "code",
   "execution_count": 19,
   "metadata": {
    "collapsed": false
   },
   "outputs": [
    {
     "data": {
      "text/plain": [
       "{'age': 35,\n",
       " 'func': <function __main__.give_money>,\n",
       " 'money': 500000,\n",
       " 'name': 'Sara'}"
      ]
     },
     "execution_count": 19,
     "metadata": {},
     "output_type": "execute_result"
    }
   ],
   "source": [
    "her_dic"
   ]
  },
  {
   "cell_type": "code",
   "execution_count": 20,
   "metadata": {
    "collapsed": true
   },
   "outputs": [],
   "source": [
    "#이 개념을 더 보편적으로 사용할 수 있는 틀을 만들자! - 그게 class\n",
    "class Person:\n",
    "    def __init__(self, name, age, money = 100000000): #default값 주기 주의) 오른쪽 부터 줘야한다!\n",
    "        self.name = name\n",
    "        self.age = age\n",
    "        self.money = money\n",
    "        \n",
    "    def __del__(self): #객체가 없어질 때 호출 됨 (소멸자)\n",
    "        print(\"소멸자 호출\")\n",
    "        \n",
    "    def Givemoney(self, you, money):\n",
    "        self.money -= money\n",
    "        you.money += money"
   ]
  },
  {
   "cell_type": "code",
   "execution_count": 25,
   "metadata": {
    "collapsed": false
   },
   "outputs": [
    {
     "name": "stdout",
     "output_type": "stream",
     "text": [
      "소멸자 호출\n"
     ]
    }
   ],
   "source": [
    "person1 = Person(\"John\", 100, 200000) #instance생성하면서 __init__호출(init은 생성자 aka constructor)"
   ]
  },
  {
   "cell_type": "code",
   "execution_count": 26,
   "metadata": {
    "collapsed": false
   },
   "outputs": [
    {
     "name": "stdout",
     "output_type": "stream",
     "text": [
      "200000\n"
     ]
    }
   ],
   "source": [
    "print(person1.money)"
   ]
  },
  {
   "cell_type": "code",
   "execution_count": 33,
   "metadata": {
    "collapsed": false
   },
   "outputs": [
    {
     "name": "stdout",
     "output_type": "stream",
     "text": [
      "소멸자 호출\n"
     ]
    }
   ],
   "source": [
    "person2 = Person(\"Mike\", 24)"
   ]
  },
  {
   "cell_type": "code",
   "execution_count": 34,
   "metadata": {
    "collapsed": false
   },
   "outputs": [
    {
     "name": "stdout",
     "output_type": "stream",
     "text": [
      "100000000\n"
     ]
    }
   ],
   "source": [
    "print(person2.money)"
   ]
  },
  {
   "cell_type": "code",
   "execution_count": 35,
   "metadata": {
    "collapsed": true
   },
   "outputs": [],
   "source": [
    "a = 5\n",
    "b = 5"
   ]
  },
  {
   "cell_type": "code",
   "execution_count": 36,
   "metadata": {
    "collapsed": false
   },
   "outputs": [
    {
     "name": "stdout",
     "output_type": "stream",
     "text": [
      "1376041552 1376041552\n"
     ]
    }
   ],
   "source": [
    "print(id(a), id(b))"
   ]
  },
  {
   "cell_type": "code",
   "execution_count": 37,
   "metadata": {
    "collapsed": true
   },
   "outputs": [],
   "source": [
    "del b"
   ]
  },
  {
   "cell_type": "code",
   "execution_count": 39,
   "metadata": {
    "collapsed": false
   },
   "outputs": [
    {
     "data": {
      "text/plain": [
       "1376041552"
      ]
     },
     "execution_count": 39,
     "metadata": {},
     "output_type": "execute_result"
    }
   ],
   "source": [
    "id(a)"
   ]
  },
  {
   "cell_type": "code",
   "execution_count": null,
   "metadata": {
    "collapsed": true
   },
   "outputs": [],
   "source": []
  }
 ],
 "metadata": {
  "kernelspec": {
   "display_name": "Python 3",
   "language": "python",
   "name": "python3"
  }
 },
 "nbformat": 4,
 "nbformat_minor": 2
}
